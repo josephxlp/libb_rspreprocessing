{
 "cells": [
  {
   "cell_type": "code",
   "execution_count": 1,
   "metadata": {},
   "outputs": [],
   "source": [
    "import numpy as np\n",
    "import os \n",
    "import rasterio\n",
    "import numpy as np\n",
    "import matplotlib.pyplot as plt\n",
    "from matplotlib.colors import ListedColormap\n",
    "from scipy import ndimage\n",
    "\n",
    "def plot_dem_and_mask(dem_data, null_mask):\n",
    "    # Define a custom colormap for the mask: blue for valid data, red for no-data\n",
    "    mask_cmap = ListedColormap(['blue', 'red'])\n",
    "    \n",
    "    # Calculate vmin and vmax based on the 5th and 85th percentiles (ignoring NaNs)\n",
    "    flat_data = dem_data[~np.isnan(dem_data)]\n",
    "    vmin = np.percentile(flat_data, 5)\n",
    "    vmax = np.percentile(flat_data, 85)\n",
    "    \n",
    "    # Create a figure with two subplots\n",
    "    fig, axes = plt.subplots(1, 2, figsize=(12, 6))\n",
    "    \n",
    "    # Plot DEM\n",
    "    im1 = axes[0].imshow(\n",
    "        dem_data,\n",
    "        cmap='terrain',\n",
    "        vmin=vmin,\n",
    "        vmax=vmax\n",
    "    )\n",
    "    # Set values below zero to black\n",
    "    im1.cmap.set_under('black')\n",
    "    \n",
    "    axes[0].set_title(\"DEM (Terrain)\")\n",
    "    fig.colorbar(im1, ax=axes[0], orientation='vertical', extend='both')\n",
    "    \n",
    "    # Plot Null Mask\n",
    "    im2 = axes[1].imshow(\n",
    "        null_mask,\n",
    "        cmap=mask_cmap,\n",
    "        vmin=0,\n",
    "        vmax=1\n",
    "    )\n",
    "    axes[1].set_title(\"Null Mask (Blue=Data, Red=No Data)\")\n",
    "    \n",
    "    # Adjust layout and show the plot\n",
    "    plt.tight_layout()\n",
    "    plt.show()\n",
    "\n",
    "# Load raster\n",
    "def rload(dem_path):\n",
    "    with rasterio.open(dem_path) as src:\n",
    "        rdata = src.read()\n",
    "    return rdata\n",
    "\n",
    "# Read DEM and replace nodata values with NaN\n",
    "def read_dem(dem_path):\n",
    "    with rasterio.open(dem_path) as src:\n",
    "        dem_data = src.read(1)\n",
    "        nodata_value = src.nodata\n",
    "    if nodata_value is not None:\n",
    "        dem_data = dem_data.astype(\"float32\")\n",
    "        dem_data[dem_data == nodata_value] = np.nan\n",
    "        dem_data[dem_data <= -30] = np.nan\n",
    "    return dem_data\n",
    "\n",
    "# Get mask for NaN values\n",
    "def get_null_mask(dem_data):\n",
    "    return np.isnan(dem_data)\n",
    "\n",
    "# Print unique values\n",
    "# def print_unique_values(array, verbose=False):\n",
    "#     unique_values, counts = np.unique(array, return_counts=True)\n",
    "#     print(f\"Total Unique Values: {len(unique_values)}\")\n",
    "#     print(unique_values)\n",
    "#     if verbose:\n",
    "#         print(\"Unique Values and Counts:\")\n",
    "#         for value, count in zip(unique_values, counts):\n",
    "#             print(f\"Value: {value}, Count: {count}\")\n",
    "\n",
    "\n",
    "def print_unique_values(array, verbose=False):\n",
    "    unique_values, counts = np.unique(array, return_counts=True)\n",
    "    total_count = np.sum(counts)\n",
    "\n",
    "    print(f\"Total Unique Values: {len(unique_values)}\")\n",
    "    print(unique_values)\n",
    "\n",
    "    if verbose:\n",
    "        print(\"Unique Values and Percentages:\")\n",
    "        for value, count in zip(unique_values, counts):\n",
    "            percentage = (count / total_count) * 100\n",
    "            print(f\"Value: {value}, Percentage: {percentage:.2f}%\")\n",
    "\n",
    "# Save the masks and filtered DEM\n",
    "def save_raster(output_path, data, reference_raster):\n",
    "    \"\"\"Save raster using reference metadata.\"\"\"\n",
    "    with rasterio.open(reference_raster) as src:\n",
    "        meta = src.meta.copy()\n",
    "    meta.update(dtype=\"float32\", nodata=np.nan)\n",
    "    with rasterio.open(output_path, \"w\", **meta) as dst:\n",
    "        dst.write(data.astype(\"float32\"), 1)\n",
    "\n"
   ]
  },
  {
   "cell_type": "code",
   "execution_count": 2,
   "metadata": {},
   "outputs": [],
   "source": [
    "hem_fn = \"/media/ljp238/12TBWolf/BRCHIEVE/TILES12/N10E105/N10E105_tdem_hem.tif\"\n",
    "wam_fn = \"/media/ljp238/12TBWolf/BRCHIEVE/TILES12/N10E105/N10E105_tdem_wam.tif\"\n",
    "com_fn = \"/media/ljp238/12TBWolf/BRCHIEVE/TILES12/N10E105/N10E105_tdem_com.tif\"\n",
    "lcm_fn = \"/media/ljp238/12TBWolf/BRCHIEVE/TILES12/N10E105/N10E105_edem_lcm.tif\"\n",
    "wbm_fn = \"/media/ljp238/12TBWolf/BRCHIEVE/TILES12/N10E105/N10E105_cdem_wbm.tif\"\n",
    "esa_fn = \"/media/ljp238/12TBWolf/BRCHIEVE/TILES12/N10E105/N10E105_esawc.tif\"\n",
    "tdem_fn = \"/media/ljp238/12TBWolf/BRCHIEVE/TILES12/N10E105/N10E105_tdem_dem_egm.tif\""
   ]
  },
  {
   "cell_type": "code",
   "execution_count": null,
   "metadata": {},
   "outputs": [],
   "source": [
    "from"
   ]
  },
  {
   "cell_type": "code",
   "execution_count": null,
   "metadata": {},
   "outputs": [],
   "source": [
    "from..src"
   ]
  },
  {
   "cell_type": "code",
   "execution_count": 5,
   "metadata": {},
   "outputs": [
    {
     "ename": "ImportError",
     "evalue": "attempted relative import with no known parent package",
     "output_type": "error",
     "traceback": [
      "\u001b[0;31m---------------------------------------------------------------------------\u001b[0m",
      "\u001b[0;31mImportError\u001b[0m                               Traceback (most recent call last)",
      "Cell \u001b[0;32mIn[5], line 1\u001b[0m\n\u001b[0;32m----> 1\u001b[0m \u001b[38;5;28;01mfrom\u001b[39;00m\u001b[38;5;250m \u001b[39m\u001b[38;5;21;01m.\u001b[39;00m\u001b[38;5;21;01m.\u001b[39;00m\u001b[38;5;21;01msrc\u001b[39;00m\u001b[38;5;21;01m.\u001b[39;00m\u001b[38;5;21;01mrfilter\u001b[39;00m\u001b[38;5;250m \u001b[39m\u001b[38;5;28;01mimport\u001b[39;00m dem_remove_badpixels\n\u001b[1;32m      2\u001b[0m fo \u001b[38;5;241m=\u001b[39m tdem_fn\u001b[38;5;241m.\u001b[39mreplace(\u001b[38;5;124m\"\u001b[39m\u001b[38;5;124m.tif\u001b[39m\u001b[38;5;124m\"\u001b[39m, \u001b[38;5;124m\"\u001b[39m\u001b[38;5;124m_void.tif\u001b[39m\u001b[38;5;124m\"\u001b[39m)\n",
      "\u001b[0;31mImportError\u001b[0m: attempted relative import with no known parent package"
     ]
    }
   ],
   "source": [
    "from ..src.rfilter import dem_remove_badpixels\n",
    "fo = tdem_fn.replace(\".tif\", \"_void.tif\")"
   ]
  },
  {
   "cell_type": "code",
   "execution_count": null,
   "metadata": {},
   "outputs": [],
   "source": [
    "dem_remove_badpixels(tdem_fn,hem_fn, esa_fn,com_fn,fo)"
   ]
  },
  {
   "cell_type": "code",
   "execution_count": null,
   "metadata": {},
   "outputs": [],
   "source": []
  },
  {
   "cell_type": "code",
   "execution_count": null,
   "metadata": {},
   "outputs": [],
   "source": []
  },
  {
   "cell_type": "code",
   "execution_count": 35,
   "metadata": {},
   "outputs": [],
   "source": [
    "dem_data = read_dem(tdem_fn)\n",
    "hem = rload(hem_fn) #\n",
    "wam = rload(wam_fn) #\n",
    "com = rload(com_fn) #\n",
    "lcm = rload(lcm_fn)\n",
    "esa = rload(esa_fn)\n",
    "wbm = rload(wam_fn)"
   ]
  },
  {
   "cell_type": "code",
   "execution_count": null,
   "metadata": {},
   "outputs": [],
   "source": [
    "\n",
    "def filter_tandemx_pixelnoise(tdem_fn,hem_fn,com_fn,esa_fn, n_iter=2):\n",
    "    dem_data = read_dem(tdem_fn)\n",
    "    hem = rload(hem_fn) #\n",
    "    esa = rload(esa_fn)\n",
    "    com = rload(com_fn) \n",
    "\n",
    "    print(\"# Apply height error mask\")\n",
    "    mask = get_null_mask(dem_data) #\n",
    "    max_err_multi = 0.5#1#1.5#2#1.5#1.5\n",
    "    n_iter = 1\n",
    "    print_unique_values(mask, verbose=True)\n",
    "    save_raster(\"mask.tif\", mask.astype(\"uint8\"), tdem_fn)\n",
    "    print(\"# Apply height error mask\")\n",
    "    # Apply height error mask\n",
    "    mask |= (hem[0] > max_err_multi)\n",
    "    print_unique_values(mask, verbose=True)\n",
    "\n",
    "    #print(\"# Apply COM mask (invalid values 0, 1, 2)\")\n",
    "    com_invalid = (0, 1, 2)\n",
    "    mask |= np.isin(com[0], com_invalid)\n",
    "    print_unique_values(mask, verbose=True)\n",
    "\n",
    "    #print(\"# Apply ESA water mask (select only 80 for water)\")\n",
    "    mask |= (esa[0] == 80)\n",
    "    print_unique_values(mask, verbose=True)\n",
    "    save_raster(\"mask1.tif\", mask.astype(\"uint8\"), tdem_fn)\n",
    "    print(\"# Apply Morphological Operations\")\n",
    "    # ==========================================\n",
    "    mask = ndimage.binary_dilation(mask, iterations=n_iter)\n",
    "    mask = ndimage.binary_erosion(mask, iterations=n_iter)"
   ]
  },
  {
   "cell_type": "code",
   "execution_count": 77,
   "metadata": {},
   "outputs": [
    {
     "name": "stdout",
     "output_type": "stream",
     "text": [
      "# Apply height error mask\n",
      "Total Unique Values: 2\n",
      "[False  True]\n",
      "Unique Values and Percentages:\n",
      "Value: False, Percentage: 98.95%\n",
      "Value: True, Percentage: 1.05%\n",
      "# Apply height error mask\n",
      "Total Unique Values: 2\n",
      "[False  True]\n",
      "Unique Values and Percentages:\n",
      "Value: False, Percentage: 75.89%\n",
      "Value: True, Percentage: 24.11%\n",
      "Total Unique Values: 2\n",
      "[False  True]\n",
      "Unique Values and Percentages:\n",
      "Value: False, Percentage: 75.83%\n",
      "Value: True, Percentage: 24.17%\n",
      "Total Unique Values: 2\n",
      "[False  True]\n",
      "Unique Values and Percentages:\n",
      "Value: False, Percentage: 75.40%\n",
      "Value: True, Percentage: 24.60%\n",
      "# Apply Morphological Operations\n"
     ]
    }
   ],
   "source": [
    "print(\"# Apply height error mask\")\n",
    "mask = get_null_mask(dem_data) #\n",
    "max_err_multi = 0.5#1#1.5#2#1.5#1.5\n",
    "n_iter = 1\n",
    "print_unique_values(mask, verbose=True)\n",
    "save_raster(\"mask.tif\", mask.astype(\"uint8\"), tdem_fn)\n",
    "print(\"# Apply height error mask\")\n",
    "# Apply height error mask\n",
    "mask |= (hem[0] > max_err_multi)\n",
    "print_unique_values(mask, verbose=True)\n",
    "\n",
    "#print(\"# Apply COM mask (invalid values 0, 1, 2)\")\n",
    "com_invalid = (0, 1, 2)\n",
    "mask |= np.isin(com[0], com_invalid)\n",
    "print_unique_values(mask, verbose=True)\n",
    "\n",
    "#print(\"# Apply ESA water mask (select only 80 for water)\")\n",
    "mask |= (esa[0] == 80)\n",
    "print_unique_values(mask, verbose=True)\n",
    "save_raster(\"mask1.tif\", mask.astype(\"uint8\"), tdem_fn)\n",
    "\n",
    "print(\"# Apply Morphological Operations\")\n",
    "# ==========================================\n",
    "mask = ndimage.binary_dilation(mask, iterations=n_iter)\n",
    "mask = ndimage.binary_erosion(mask, iterations=n_iter)\n",
    "\n",
    "save_raster(\"mask3.tif\", mask.astype(\"uint8\"), tdem_fn)\n",
    "\n",
    "# mask has True and False, and i want to correct the code below\n",
    "# Apply Mask to DEM: Replace masked values with np.nan or -9999\n",
    "filtered_dem = np.where(mask, np.nan, dem_data)  # Use np.nan for float-type DEM\n",
    "# filtered_dem = np.where(mask, -9999, dem_data)  # Use -9999 for integer-type DEM\n",
    "\n",
    "# Save the filtered DEM to a new raster file\n",
    "save_raster(\"filtered_dem.tif\", filtered_dem, tdem_fn)"
   ]
  },
  {
   "cell_type": "code",
   "execution_count": null,
   "metadata": {},
   "outputs": [
    {
     "name": "stdout",
     "output_type": "stream",
     "text": [
      "# Apply Mask to DEM\n"
     ]
    }
   ],
   "source": []
  },
  {
   "cell_type": "code",
   "execution_count": 75,
   "metadata": {},
   "outputs": [
    {
     "data": {
      "text/plain": [
       "array([[False, False, False, ..., False, False, False],\n",
       "       [False, False, False, ..., False, False, False],\n",
       "       [False, False, False, ..., False, False, False],\n",
       "       ...,\n",
       "       [False,  True,  True, ...,  True,  True, False],\n",
       "       [False,  True,  True, ..., False, False, False],\n",
       "       [False, False, False, ..., False, False, False]])"
      ]
     },
     "execution_count": 75,
     "metadata": {},
     "output_type": "execute_result"
    }
   ],
   "source": [
    "mask"
   ]
  },
  {
   "cell_type": "code",
   "execution_count": null,
   "metadata": {},
   "outputs": [],
   "source": []
  },
  {
   "cell_type": "code",
   "execution_count": null,
   "metadata": {},
   "outputs": [
    {
     "name": "stdout",
     "output_type": "stream",
     "text": [
      "# Apply height error mask\n",
      "Total Unique Values: 2\n",
      "[False  True]\n",
      "Unique Values and Percentages:\n",
      "Value: False, Percentage: 98.95%\n",
      "Value: True, Percentage: 1.05%\n",
      "# Apply height error mask\n",
      "Total Unique Values: 2\n",
      "[False  True]\n",
      "Unique Values and Percentages:\n",
      "Value: False, Percentage: 75.89%\n",
      "Value: True, Percentage: 24.11%\n",
      "Total Unique Values: 2\n",
      "[False  True]\n",
      "Unique Values and Percentages:\n",
      "Value: False, Percentage: 75.83%\n",
      "Value: True, Percentage: 24.17%\n",
      "Total Unique Values: 2\n",
      "[False  True]\n",
      "Unique Values and Percentages:\n",
      "Value: False, Percentage: 75.40%\n",
      "Value: True, Percentage: 24.60%\n",
      "Total Unique Values: 2\n",
      "[False  True]\n",
      "Unique Values and Percentages:\n",
      "Value: False, Percentage: 97.13%\n",
      "Value: True, Percentage: 2.87%\n"
     ]
    }
   ],
   "source": [
    "print(\"# Apply height error mask\")\n",
    "mask = get_null_mask(dem_data) #\n",
    "max_err_multi = 0.5#1#1.5#2#1.5#1.5\n",
    "n_iter = 1\n",
    "print_unique_values(mask, verbose=True)\n",
    "save_raster(\"mask.tif\", mask.astype(\"uint8\"), tdem_fn)\n",
    "print(\"# Apply height error mask\")\n",
    "# Apply height error mask\n",
    "mask |= (hem[0] > max_err_multi)\n",
    "print_unique_values(mask, verbose=True)\n",
    "\n",
    "#print(\"# Apply COM mask (invalid values 0, 1, 2)\")\n",
    "com_invalid = (0, 1, 2)\n",
    "mask |= np.isin(com[0], com_invalid)\n",
    "print_unique_values(mask, verbose=True)\n",
    "\n",
    "#print(\"# Apply ESA water mask (select only 80 for water)\")\n",
    "mask |= (esa[0] == 80)\n",
    "print_unique_values(mask, verbose=True)\n",
    "save_raster(\"mask1.tif\", mask.astype(\"uint8\"), tdem_fn)\n",
    "\n",
    "print(\"# Apply Morphological Operations\")\n",
    "# ==========================================\n",
    "mask = ndimage.binary_dilation(mask, iterations=n_iter)\n",
    "mask = ndimage.binary_erosion(mask, iterations=n_iter)\n",
    "\n",
    "save_raster(\"mask3.tif\", mask.astype(\"uint8\"), tdem_fn)\n",
    "\n",
    "# hem is the super thingy, and use copernicus as \n",
    "\n",
    "# mask = (lcm[0] == 3)   # Land class in LCM Band 1\n",
    "# print_unique_values(mask, verbose=True)\n",
    "# save_raster(\"mask2.tif\", mask.astype(\"uint8\"), tdem_fn)\n",
    "\n",
    "# print(\"# Apply WBM water mask (select 1, 2, 3 for water\")\n",
    "# #mask |= np.isin(wbm[0], [1, 2, 3])\n",
    "# mask |= (wbm[0] == 1)\n",
    "# print_unique_values(mask, verbose=True)\n",
    "# save_raster(\"mask.tif\", mask.astype(\"uint8\"), tdem_fn)\n",
    "# # this is wrong one\n",
    "\n",
    "# print(\"# Apply WAM mask (range 3 to 127)//33 to 127\")\n",
    "# wam_clim = (33, 127)\n",
    "# mask |= (wam[0] >= wam_clim[0]) & (wam[0] <= wam_clim[1])\n",
    "# print_unique_values(mask, verbose=True)\n",
    "# save_raster(\"mask2.tif\", mask.astype(\"uint8\"), tdem_fn)\n",
    "\n",
    "# mask 1 is good, mask 2 is too much - removing even good pixels "
   ]
  },
  {
   "cell_type": "code",
   "execution_count": null,
   "metadata": {},
   "outputs": [
    {
     "name": "stdout",
     "output_type": "stream",
     "text": [
      "Total Unique Values: 2\n",
      "[False  True]\n",
      "Unique Values and Percentages:\n",
      "Value: False, Percentage: 92.09%\n",
      "Value: True, Percentage: 7.91%\n"
     ]
    }
   ],
   "source": []
  },
  {
   "cell_type": "code",
   "execution_count": null,
   "metadata": {},
   "outputs": [
    {
     "name": "stdout",
     "output_type": "stream",
     "text": [
      "Total Unique Values: 2\n",
      "[False  True]\n",
      "Unique Values and Percentages:\n",
      "Value: False, Percentage: 59.97%\n",
      "Value: True, Percentage: 40.03%\n"
     ]
    }
   ],
   "source": []
  },
  {
   "cell_type": "code",
   "execution_count": null,
   "metadata": {},
   "outputs": [],
   "source": []
  }
 ],
 "metadata": {
  "kernelspec": {
   "display_name": "agluon",
   "language": "python",
   "name": "python3"
  },
  "language_info": {
   "codemirror_mode": {
    "name": "ipython",
    "version": 3
   },
   "file_extension": ".py",
   "mimetype": "text/x-python",
   "name": "python",
   "nbconvert_exporter": "python",
   "pygments_lexer": "ipython3",
   "version": "3.11.11"
  }
 },
 "nbformat": 4,
 "nbformat_minor": 2
}
