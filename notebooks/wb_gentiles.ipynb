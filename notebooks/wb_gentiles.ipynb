{
 "cells": [
  {
   "cell_type": "code",
   "execution_count": 6,
   "metadata": {},
   "outputs": [],
   "source": [
    "import os "
   ]
  },
  {
   "cell_type": "code",
   "execution_count": 13,
   "metadata": {},
   "outputs": [],
   "source": [
    "import subprocess\n",
    "\n",
    "def reproject_raster(input_raster, output_raster, epsg_code=\"4749\"):\n",
    "    \"\"\"Reprojects a raster to the specified EPSG code using gdalwarp.\"\"\"\n",
    "    command = [\n",
    "        \"gdalwarp\",\n",
    "        \"-t_srs\", f\"EPSG:{epsg_code}\",  # Set target projection\n",
    "        \"-r\", \"bilinear\",  # Resampling method (change if needed)\n",
    "        \"-overwrite\",  # Overwrite existing output file\n",
    "        input_raster,\n",
    "        output_raster\n",
    "    ]\n",
    "    \n",
    "    try:\n",
    "        subprocess.run(command, check=True)\n",
    "        print(f\"Reprojection successful: {output_raster}\")\n",
    "    except subprocess.CalledProcessError as e:\n",
    "        print(f\"Error during reprojection: {e}\")\n",
    "\n",
    "\n",
    "\n"
   ]
  },
  {
   "cell_type": "code",
   "execution_count": 7,
   "metadata": {},
   "outputs": [],
   "source": [
    "reproj_dpath = \"/media/ljp238/12TBWolf/ARCHIEVE/GEOID/ROI/REPROJ/\""
   ]
  },
  {
   "cell_type": "code",
   "execution_count": 15,
   "metadata": {},
   "outputs": [
    {
     "data": {
      "text/plain": [
       "'/home/ljp238/Downloads/GEOIDS/isg/tif/Brazil_2015_MAPGEO2015_gravG_20201222.tif'"
      ]
     },
     "execution_count": 15,
     "metadata": {},
     "output_type": "execute_result"
    }
   ],
   "source": [
    "fi = \"/home/ljp238/Downloads/GEOIDS/isg/tif/GEOID_FFT_20190703.tif\"\n",
    "fi= \"/home/ljp238/Downloads/GEOIDS/isg/tif/Brazil_2015_MAPGEO2015_gravG_20201222.tif\"\n",
    "\n",
    "epsg = \"4326\" \n",
    "epsg=\"4749\"\n",
    "bname = os.path.basename(fi).replace(\".tif\", f\"_{epsg}.tif\")\n",
    "fo = os.path.join(reproj_dpath, bname)\n",
    "fi"
   ]
  },
  {
   "cell_type": "code",
   "execution_count": 16,
   "metadata": {},
   "outputs": [
    {
     "name": "stdout",
     "output_type": "stream",
     "text": [
      "Creating output file that is 540P x 492L.\n",
      "Using internal nodata values (e.g. -9999) for image /home/ljp238/Downloads/GEOIDS/isg/tif/Brazil_2015_MAPGEO2015_gravG_20201222.tif.\n",
      "Copying nodata values from source /home/ljp238/Downloads/GEOIDS/isg/tif/Brazil_2015_MAPGEO2015_gravG_20201222.tif to destination /media/ljp238/12TBWolf/ARCHIEVE/GEOID/ROI/REPROJ/Brazil_2015_MAPGEO2015_gravG_20201222_4749.tif.\n",
      "Processing /home/ljp238/Downloads/GEOIDS/isg/tif/Brazil_2015_MAPGEO2015_gravG_20201222.tif [1/1] : 0...10...20...30...40...50...60...70...80...90...100 - done.\n",
      "Reprojection successful: /media/ljp238/12TBWolf/ARCHIEVE/GEOID/ROI/REPROJ/Brazil_2015_MAPGEO2015_gravG_20201222_4749.tif\n"
     ]
    }
   ],
   "source": [
    "reproject_raster(fi, fo)"
   ]
  },
  {
   "cell_type": "code",
   "execution_count": null,
   "metadata": {},
   "outputs": [],
   "source": [
    "#/media/ljp238/12TBWolf/ARCHIEVE/GEOID/ROI/REPROJ/GEOID_FFT_20190703_4749.tif\n",
    "#/media/ljp238/12TBWolf/ARCHIEVE/GEOID/ROI/REPROJ/Brazil_2015_MAPGEO2015_gravG_20201222_4749.tif"
   ]
  },
  {
   "cell_type": "code",
   "execution_count": 4,
   "metadata": {},
   "outputs": [],
   "source": [
    "from glob import glob\n",
    "import os"
   ]
  },
  {
   "cell_type": "code",
   "execution_count": null,
   "metadata": {},
   "outputs": [],
   "source": [
    "# fs = glob(\"/media/ljp238/12TBWolf/BRCHIEVE/TILES12/*/*_fbchm.tif\") #lgeoid\n",
    "# for fi in fs:\n",
    "#     os.remove(fi)\n",
    "#     print(fi)"
   ]
  },
  {
   "cell_type": "code",
   "execution_count": 7,
   "metadata": {},
   "outputs": [],
   "source": [
    "def clean_tiles_by_suffix(suffix=\"lgeoid\"):\n",
    "    fs = glob(f\"/media/ljp238/12TBWolf/BRCHIEVE/TILES12/*/*{suffix}.tif\")\n",
    "    print(f\"{len(fs)} {suffix}\")\n",
    "    for fi in fs:\n",
    "        os.remove(fi)"
   ]
  },
  {
   "cell_type": "code",
   "execution_count": 8,
   "metadata": {},
   "outputs": [
    {
     "name": "stdout",
     "output_type": "stream",
     "text": [
      "17 lgeoid\n"
     ]
    }
   ],
   "source": [
    "clean_tiles_by_suffix(suffix=\"lgeoid\")"
   ]
  },
  {
   "cell_type": "code",
   "execution_count": 15,
   "metadata": {},
   "outputs": [
    {
     "name": "stdout",
     "output_type": "stream",
     "text": [
      "17 gedilow_egm\n",
      "16 geditop_egm\n"
     ]
    }
   ],
   "source": [
    "clean_tiles_by_suffix(suffix=\"gedilow_egm\")\n",
    "clean_tiles_by_suffix(suffix=\"geditop_egm\")"
   ]
  },
  {
   "cell_type": "code",
   "execution_count": 9,
   "metadata": {},
   "outputs": [],
   "source": [
    "def clean_auxfiles():\n",
    "    fs = glob(\"/media/ljp238/12TBWolf/BRCHIEVE/TILES12/*/*.aux.xml\")\n",
    "    print(f\"{len(fs)}\")\n",
    "    for fi in fs:\n",
    "        os.remove(fi)"
   ]
  },
  {
   "cell_type": "code",
   "execution_count": 10,
   "metadata": {},
   "outputs": [
    {
     "name": "stdout",
     "output_type": "stream",
     "text": [
      "6\n"
     ]
    }
   ],
   "source": [
    "clean_auxfiles()"
   ]
  },
  {
   "cell_type": "code",
   "execution_count": 12,
   "metadata": {},
   "outputs": [],
   "source": [
    "# ch fb better than eth, coverage delinartion - make plots for this they both are EPSG4326?\n",
    "# Yes, but read the papers to double check, it seems like the have not done transformation right?\n",
    "# if they didm they would have mention it"
   ]
  },
  {
   "cell_type": "code",
   "execution_count": 13,
   "metadata": {},
   "outputs": [],
   "source": [
    "# analysie buikibng height? can we combine them all to create a single layer?\n",
    "# is this layer more predictive than the others?"
   ]
  },
  {
   "cell_type": "code",
   "execution_count": null,
   "metadata": {},
   "outputs": [],
   "source": [
    "## create a mask that takes bh, chm with help of esa,\n",
    "## use this mask to extract ground, and the interpolate, then dwx\n",
    "\n",
    "# try scaling esa do it smartly\n",
    "# thrist get meta, all unique value min and max"
   ]
  },
  {
   "cell_type": "code",
   "execution_count": null,
   "metadata": {},
   "outputs": [],
   "source": []
  }
 ],
 "metadata": {
  "kernelspec": {
   "display_name": "agluon",
   "language": "python",
   "name": "python3"
  },
  "language_info": {
   "codemirror_mode": {
    "name": "ipython",
    "version": 3
   },
   "file_extension": ".py",
   "mimetype": "text/x-python",
   "name": "python",
   "nbconvert_exporter": "python",
   "pygments_lexer": "ipython3",
   "version": "3.11.11"
  }
 },
 "nbformat": 4,
 "nbformat_minor": 2
}
